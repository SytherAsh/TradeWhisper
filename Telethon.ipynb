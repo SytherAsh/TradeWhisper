{
 "cells": [
  {
   "cell_type": "code",
   "execution_count": 1,
   "id": "0e55863d-595f-460f-8b05-2aa8221f3259",
   "metadata": {},
   "outputs": [
    {
     "name": "stdout",
     "output_type": "stream",
     "text": [
      "Requirement already satisfied: telethon in c:\\users\\yashs\\appdata\\roaming\\python\\python311\\site-packages (1.38.1)\n",
      "Requirement already satisfied: pyaes in c:\\users\\yashs\\appdata\\roaming\\python\\python311\\site-packages (from telethon) (1.6.1)\n",
      "Requirement already satisfied: rsa in c:\\users\\yashs\\appdata\\roaming\\python\\python311\\site-packages (from telethon) (4.9)\n",
      "Requirement already satisfied: pyasn1>=0.1.3 in c:\\users\\yashs\\anaconda3\\lib\\site-packages (from rsa->telethon) (0.4.8)\n"
     ]
    }
   ],
   "source": [
    "!pip install telethon\n"
   ]
  },
  {
   "cell_type": "code",
   "execution_count": 5,
   "id": "24bd638a-95b8-4980-97f3-a311dfc4360c",
   "metadata": {},
   "outputs": [
    {
     "name": "stdout",
     "output_type": "stream",
     "text": [
      "Requirement already satisfied: nest_asyncio in c:\\users\\yashs\\anaconda3\\lib\\site-packages (1.6.0)\n",
      "Note: you may need to restart the kernel to use updated packages.\n"
     ]
    }
   ],
   "source": [
    "pip install nest_asyncio\n"
   ]
  },
  {
   "cell_type": "code",
   "execution_count": 47,
   "id": "8152e838-d609-4dd2-b8cd-04177e4dbd43",
   "metadata": {},
   "outputs": [],
   "source": [
    "import nest_asyncio\n",
    "nest_asyncio.apply()\n"
   ]
  },
  {
   "cell_type": "code",
   "execution_count": 48,
   "id": "16d8a2cc-d94a-4b76-846b-7a9b7e7bfd15",
   "metadata": {},
   "outputs": [],
   "source": [
    "from telethon import TelegramClient\n",
    "import asyncio\n",
    "\n",
    "# Remember to use your own values from my.telegram.org!\n",
    "api_id = 24152828  # Replace with your API ID\n",
    "api_hash = 'aa8fb2758630f4520ce76b209c03a328'  # Replace with your API Hash\n",
    "client = TelegramClient('anon', api_id, api_hash)\n"
   ]
  },
  {
   "cell_type": "markdown",
   "id": "d0ed4a1f-b561-4333-a51b-a521d5b2b6ba",
   "metadata": {},
   "source": [
    "Scrapping\n",
    "--"
   ]
  },
  {
   "cell_type": "code",
   "execution_count": 58,
   "id": "676b012e-dfc6-490b-9b99-e00fc8fe8f96",
   "metadata": {},
   "outputs": [
    {
     "name": "stdout",
     "output_type": "stream",
     "text": [
      "Client started successfully!\n",
      "Fetching data from channel: Trading_Stock_Tips_calls_Market\n",
      "Data collected from Trading_Stock_Tips_calls_Market.\n",
      "Data saved to stock_data_Trading_Stock_Tips_calls_Market_20241127234828.csv.\n",
      "Fetching data from channel: Share_Trading_Tips_Stock_Market\n",
      "Data collected from Share_Trading_Tips_Stock_Market.\n",
      "Data saved to stock_data_Share_Trading_Tips_Stock_Market_20241127234829.csv.\n",
      "Fetching data from channel: Stock_BankNifty_Nifty_Options\n",
      "Data collected from Stock_BankNifty_Nifty_Options.\n",
      "Data saved to stock_data_Stock_BankNifty_Nifty_Options_20241127234829.csv.\n",
      "Client disconnected.\n"
     ]
    }
   ],
   "source": [
    "import asyncio\n",
    "from telethon import TelegramClient\n",
    "from telethon.tl.types import PeerChannel\n",
    "import pandas as pd\n",
    "from datetime import datetime\n",
    "\n",
    "class TelegramStockScraper:\n",
    "    def __init__(self, phone_number, api_id, api_hash):\n",
    "        self.phone_number = phone_number\n",
    "        self.api_id = api_id\n",
    "        self.api_hash = api_hash\n",
    "        self.client = None\n",
    "\n",
    "    async def start_client(self):\n",
    "        self.client = TelegramClient('stock_scraper_session', self.api_id, self.api_hash)\n",
    "        await self.client.start(self.phone_number)\n",
    "        print(\"Client started successfully!\")\n",
    "    \n",
    "    async def scrape_channel_data(self, channel_name):\n",
    "        try:\n",
    "            channel = await self.client.get_entity(channel_name)  # Get channel entity by name\n",
    "            print(f\"Fetching data from channel: {channel_name}\")\n",
    "            \n",
    "            # Get last 100 messages from the channel\n",
    "            messages = await self.client.get_messages(channel, limit=100)\n",
    "            \n",
    "            # Store the data (message text, timestamp, and sender)\n",
    "            data = []\n",
    "            for message in messages:\n",
    "                data.append({\n",
    "                    'timestamp': message.date,\n",
    "                    'sender': message.sender_id,\n",
    "                    'text': message.text\n",
    "                })\n",
    "                \n",
    "            # Convert to DataFrame for easier processing and saving\n",
    "            df = pd.DataFrame(data)\n",
    "            print(f\"Data collected from {channel_name}.\")\n",
    "            return df\n",
    "\n",
    "        except Exception as e:\n",
    "            print(f\"Failed to scrape data from {channel_name}. Error: {e}\")\n",
    "            return None\n",
    "\n",
    "    async def save_data_to_csv(self, df, filename):\n",
    "        try:\n",
    "            df.to_csv(filename, index=False)\n",
    "            print(f\"Data saved to {filename}.\")\n",
    "        except Exception as e:\n",
    "            print(f\"Error saving data to CSV: {e}\")\n",
    "\n",
    "    async def stop_client(self):\n",
    "        if self.client:\n",
    "            await self.client.disconnect()\n",
    "            print(\"Client disconnected.\")\n",
    "\n",
    "# To run the scraper:\n",
    "async def run_scraper():\n",
    "\n",
    "    api_id = 24152828  # Replace with your API ID\n",
    "    api_hash = 'aa8fb2758630f4520ce76b209c03a328'  # Replace with your API Hash\n",
    "    phone_number = \"919665438492\"  # Replace with your phone number\n",
    "\n",
    "    # Initialize the scraper with the credentials\n",
    "    scraper = TelegramStockScraper(phone_number, api_id, api_hash)\n",
    "    \n",
    "    # Start the client\n",
    "    await scraper.start_client()\n",
    "\n",
    "    # Specify the stock-related channels you want to scrape data from\n",
    "    channels = [\"Trading_Stock_Tips_calls_Market\",\"Share_Trading_Tips_Stock_Market\",\"Stock_BankNifty_Nifty_Options\"]  # Replace with actual channel names/IDs\n",
    "    \n",
    "    # Scrape data from each channel and save it\n",
    "    for channel in channels:\n",
    "        df = await scraper.scrape_channel_data(channel)\n",
    "        if df is not None:\n",
    "            filename = f\"stock_data_{channel}_{datetime.now().strftime('%Y%m%d%H%M%S')}.csv\"\n",
    "            await scraper.save_data_to_csv(df, filename)\n",
    "    \n",
    "    # Stop the client\n",
    "    await scraper.stop_client()\n",
    "\n",
    "# Run the entire process asynchronously\n",
    "if __name__ == '__main__':\n",
    "    asyncio.run(run_scraper())\n"
   ]
  },
  {
   "cell_type": "markdown",
   "id": "79531843-7b20-4bb8-b0a7-27208551314e",
   "metadata": {},
   "source": [
    "ID-Particular CHANNEL\n",
    "--"
   ]
  },
  {
   "cell_type": "code",
   "execution_count": 55,
   "id": "34fd84fd-67ab-48af-8740-3e882bfb402b",
   "metadata": {},
   "outputs": [
    {
     "name": "stdout",
     "output_type": "stream",
     "text": [
      "Channel ID: 1521790999\n",
      "Channel Username: internfreak\n",
      "Channel Title: InternFreak\n"
     ]
    }
   ],
   "source": [
    "from telethon import TelegramClient\n",
    "\n",
    "# Replace these with your actual credentials\n",
    "api_id = 24152828  # Replace with your API ID\n",
    "api_hash = 'aa8fb2758630f4520ce76b209c03a328'  # Replace with your API Hash\n",
    "phone_number = \"919665438492\"  # Replace with your phone number\n",
    "\n",
    "async def get_channel_id():\n",
    "    client = TelegramClient('session_name', api_id, api_hash)\n",
    "\n",
    "    # Start the client\n",
    "    await client.start(phone_number)\n",
    "\n",
    "    # Channel username (replace with the actual username or channel name)\n",
    "    channel_username = 'InternFreak'  # Replace with the channel's username (e.g., 'stock_news')\n",
    "\n",
    "    try:\n",
    "        # Fetch the channel entity\n",
    "        channel = await client.get_entity(channel_username)\n",
    "        \n",
    "        # Print the channel ID and username\n",
    "        print(f\"Channel ID: {channel.id}\")\n",
    "        print(f\"Channel Username: {channel.username}\")\n",
    "        print(f\"Channel Title: {channel.title}\")\n",
    "    except Exception as e:\n",
    "        print(f\"Error: {e}\")\n",
    "\n",
    "    await client.disconnect()\n",
    "\n",
    "# Run the function\n",
    "if __name__ == \"__main__\":\n",
    "    import asyncio\n",
    "    asyncio.run(get_channel_id())\n"
   ]
  },
  {
   "cell_type": "markdown",
   "id": "4d5dd1b1-1f59-448c-937a-917afa117b68",
   "metadata": {},
   "source": [
    "Find ID - CHANNEL\n",
    "--"
   ]
  },
  {
   "cell_type": "code",
   "execution_count": 57,
   "id": "513431c3-4c2d-437d-a12f-fd57200d795c",
   "metadata": {},
   "outputs": [
    {
     "name": "stdout",
     "output_type": "stream",
     "text": [
      "List of Channels:\n",
      "\n",
      "Title: InternFreak\n",
      "Username: @internfreak\n",
      "Channel ID: 1521790999\n",
      "\n",
      "Title: Trade Watcher\n",
      "No Username (Private Channel)\n",
      "Channel ID: 1823497790\n",
      "\n",
      "Title: Arsh Goyal : Youtube\n",
      "Username: @goyalarsh\n",
      "Channel ID: 1419646388\n",
      "\n",
      "Title: 𝐓𝐄𝐂𝐇 𝐇𝐈𝐑𝐈𝐍𝐆 :- 𝐖𝐈𝐏𝐑𝐎/𝐈𝐍𝐅𝐎𝐒𝐘𝐒/𝐓𝐂𝐒\n",
      "Username: @techhiringo\n",
      "Channel ID: 1533347458\n",
      "\n",
      "Title: Go Careers 🚀\n",
      "Username: @gocareers\n",
      "Channel ID: 1299734537\n",
      "\n",
      "Title: Krishan Kumar - Jobs & Internships Updates\n",
      "Username: @jobs_and_internships_updates\n",
      "Channel ID: 1515619731\n",
      "\n",
      "Title: STOCK MARKET TIPS TRADING CALLS\n",
      "Username: @Trading_Stock_Tips_calls_Market\n",
      "Channel ID: 2124711145\n",
      "\n",
      "Title: Stock Market BankNifty Nifty Options\n",
      "Username: @Stock_BankNifty_Nifty_Options\n",
      "Channel ID: 2318771124\n",
      "\n",
      "Title: SHARE MARKET TRADING TIPS\n",
      "Username: @Share_Trading_Tips_Stock_Market\n",
      "Channel ID: 2214584348\n",
      "\n"
     ]
    }
   ],
   "source": [
    "async def fetch_channels():\n",
    "    client = TelegramClient('session_name', api_id, api_hash)\n",
    "    await client.start(phone_number)\n",
    "\n",
    "    dialogs = await client.get_dialogs()  # Get all chats (channels, groups, etc.)\n",
    "    \n",
    "    print(\"List of Channels:\\n\")\n",
    "    for dialog in dialogs:\n",
    "        if dialog.is_channel:  # Check if it's a channel\n",
    "            print(f\"Title: {dialog.title}\")\n",
    "            print(f\"Username: @{dialog.entity.username}\" if dialog.entity.username else \"No Username (Private Channel)\")\n",
    "            print(f\"Channel ID: {dialog.entity.id}\\n\")\n",
    "\n",
    "    await client.disconnect()\n",
    "\n",
    "# Run the function\n",
    "if __name__ == \"__main__\":\n",
    "    import asyncio\n",
    "    asyncio.run(fetch_channels())\n"
   ]
  },
  {
   "cell_type": "code",
   "execution_count": null,
   "id": "451c2e33-a7ca-4b89-a9bc-673e9cd1c8a0",
   "metadata": {},
   "outputs": [],
   "source": [
    "channels = [\"Trading_Stock_Tips_calls_Market\",\"Share_Trading_Tips_Stock_Market\",\"Stock_BankNifty_Nifty_Options\"]  # Replace with actual channel names/IDs\n"
   ]
  }
 ],
 "metadata": {
  "kernelspec": {
   "display_name": "Python 3",
   "language": "python",
   "name": "python3"
  },
  "language_info": {
   "codemirror_mode": {
    "name": "ipython",
    "version": 3
   },
   "file_extension": ".py",
   "mimetype": "text/x-python",
   "name": "python",
   "nbconvert_exporter": "python",
   "pygments_lexer": "ipython3",
   "version": "3.6.6rc1"
  },
  "widgets": {
   "application/vnd.jupyter.widget-state+json": {
    "state": {},
    "version_major": 2,
    "version_minor": 0
   }
  }
 },
 "nbformat": 4,
 "nbformat_minor": 5
}
